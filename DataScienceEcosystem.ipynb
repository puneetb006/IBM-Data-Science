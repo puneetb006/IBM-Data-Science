{
 "cells": [
  {
   "cell_type": "markdown",
   "id": "a3277814-8c96-4c05-a1b4-a061c640377f",
   "metadata": {},
   "source": [
    "# Data Science Tools and Ecosystem"
   ]
  },
  {
   "cell_type": "markdown",
   "id": "f0c51eab-1c40-45be-97a6-f59d87a9d092",
   "metadata": {},
   "source": [
    "In this notebook, Data Science Tools and Ecosystem are summarized."
   ]
  },
  {
   "cell_type": "markdown",
   "id": "6cf7cbb9-a96d-4724-a496-965408587678",
   "metadata": {},
   "source": [
    "Some of the popular languages that Data Scientists use are:\n",
    "1. Pyhton\n",
    "2. R\n",
    "3. JAVA\n",
    "4. Scala\n"
   ]
  },
  {
   "cell_type": "markdown",
   "id": "b3303d3b-3713-4a10-b8b0-84114f4c4d58",
   "metadata": {},
   "source": [
    "Some of the commonly used libraries used by Data Scientists include:\n",
    "1. Pandas\n",
    "2. Numpy\n",
    "3. Matplotlib\n",
    "4. Scikit Learn"
   ]
  },
  {
   "cell_type": "markdown",
   "id": "a0e722b0-7793-46bd-92cd-6a75eab2be4f",
   "metadata": {
    "tags": []
   },
   "source": [
    "|Data Science Tools |\n",
    "| --- |\n",
    "| RStudio |\n",
    "| Apache Spark |\n",
    "| TensorFlow |"
   ]
  },
  {
   "cell_type": "markdown",
   "id": "01c3e746-f5d0-4ac0-8ad0-be40be5070c7",
   "metadata": {},
   "source": [
    "Objectives:\n",
    "- Popular languages that Data Scientists use are\n",
    "- Commonly used libraries used by Data Scientists include\n",
    "- Commonly used Data Science Tools"
   ]
  },
  {
   "cell_type": "markdown",
   "id": "3cfc209b-d04f-47b5-a93c-3289ea58b53a",
   "metadata": {},
   "source": [
    "### Below are a few examples of evaluating arithmetic expressions in Python"
   ]
  },
  {
   "cell_type": "code",
   "execution_count": 3,
   "id": "9056ba88-c66d-4776-868d-45459dc8c969",
   "metadata": {
    "tags": []
   },
   "outputs": [
    {
     "data": {
      "text/plain": [
       "17"
      ]
     },
     "execution_count": 3,
     "metadata": {},
     "output_type": "execute_result"
    }
   ],
   "source": [
    "#This a simple arithmetic expression to mutiply then add integers\n",
    "(3*4)+5"
   ]
  },
  {
   "cell_type": "code",
   "execution_count": 5,
   "id": "8e124770-4036-4980-96a1-26e5d62aaac9",
   "metadata": {
    "tags": []
   },
   "outputs": [
    {
     "data": {
      "text/plain": [
       "3.33"
      ]
     },
     "execution_count": 5,
     "metadata": {},
     "output_type": "execute_result"
    }
   ],
   "source": [
    "#This will convert 200 minutes to hours by diving by 60\n",
    "round(200/60,2)"
   ]
  },
  {
   "cell_type": "markdown",
   "id": "bea1c3d6-07b3-42e3-b585-30c8883f2123",
   "metadata": {},
   "source": [
    "## Author\n",
    "Puneet Bansal"
   ]
  },
  {
   "cell_type": "code",
   "execution_count": null,
   "id": "4e5a2bc0-7992-43c1-bad6-c85b428743df",
   "metadata": {},
   "outputs": [],
   "source": []
  }
 ],
 "metadata": {
  "kernelspec": {
   "display_name": "Python",
   "language": "python",
   "name": "conda-env-python-py"
  },
  "language_info": {
   "codemirror_mode": {
    "name": "ipython",
    "version": 3
   },
   "file_extension": ".py",
   "mimetype": "text/x-python",
   "name": "python",
   "nbconvert_exporter": "python",
   "pygments_lexer": "ipython3",
   "version": "3.7.12"
  }
 },
 "nbformat": 4,
 "nbformat_minor": 5
}
